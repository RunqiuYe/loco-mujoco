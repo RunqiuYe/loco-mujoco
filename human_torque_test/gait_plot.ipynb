{
 "cells": [
  {
   "cell_type": "markdown",
   "metadata": {},
   "source": [
    "## Import packages"
   ]
  },
  {
   "cell_type": "code",
   "execution_count": 1,
   "metadata": {},
   "outputs": [],
   "source": [
    "from mushroom_rl.core import Core, Agent\n",
    "from loco_mujoco import LocoEnv\n",
    "import mujoco\n",
    "import numpy as np\n",
    "from numpy import linalg as LA\n",
    "from operator import itemgetter \n",
    "from scipy.interpolate import CubicSpline\n",
    "import matplotlib.pyplot as plt"
   ]
  },
  {
   "cell_type": "markdown",
   "metadata": {},
   "source": [
    "## Load Agent from checkpoint\n",
    "Sometimes the agent would fumble or the heel strike detection is not working perfectly, so we set a cycle_length_cutoff that sets the minimum length of a complete cycle. If a cycle is shorter than this, it will get discarded"
   ]
  },
  {
   "cell_type": "code",
   "execution_count": 2,
   "metadata": {},
   "outputs": [],
   "source": [
    "dataset_env = LocoEnv.make('HumanoidTorque.walk', dataset_type='perfect', random_start=False)\n",
    "trained_env = LocoEnv.make(\"HumanoidTorque.walk\")\n",
    "\n",
    "agent = Agent.load(\"./logs/loco_mujoco_evalution_2024-09-29_21-32-22/env_id___HumanoidTorque.walk/0/agent_epoch_180_J_150.328129.msh\")"
   ]
  },
  {
   "cell_type": "markdown",
   "metadata": {},
   "source": [
    "## Evaluate agent and collect data\n",
    "Data contains\n",
    "- dataset: observations and actions\n",
    "- ground reaction force (GRF)\n",
    "- heel strikes: Typically the start and end of a gait cycle is defined by heel strike, here we use left foot heel strike"
   ]
  },
  {
   "cell_type": "code",
   "execution_count": 3,
   "metadata": {},
   "outputs": [
    {
     "ename": "TypeError",
     "evalue": "LocoEnv.play_trajectory() got an unexpected keyword argument 'get_dataset'",
     "output_type": "error",
     "traceback": [
      "\u001b[0;31m---------------------------------------------------------------------------\u001b[0m",
      "\u001b[0;31mTypeError\u001b[0m                                 Traceback (most recent call last)",
      "Cell \u001b[0;32mIn[3], line 1\u001b[0m\n\u001b[0;32m----> 1\u001b[0m dataset_heel_strikes, dataset_grfs \u001b[38;5;241m=\u001b[39m \u001b[43mdataset_env\u001b[49m\u001b[38;5;241;43m.\u001b[39;49m\u001b[43mplay_trajectory\u001b[49m\u001b[43m(\u001b[49m\u001b[43mn_episodes\u001b[49m\u001b[38;5;241;43m=\u001b[39;49m\u001b[38;5;241;43m5\u001b[39;49m\u001b[43m,\u001b[49m\u001b[43m \u001b[49m\u001b[43mget_dataset\u001b[49m\u001b[38;5;241;43m=\u001b[39;49m\u001b[38;5;28;43;01mTrue\u001b[39;49;00m\u001b[43m,\u001b[49m\u001b[43m \u001b[49m\u001b[43mrecord\u001b[49m\u001b[38;5;241;43m=\u001b[39;49m\u001b[38;5;28;43;01mFalse\u001b[39;49;00m\u001b[43m)\u001b[49m\n",
      "\u001b[0;31mTypeError\u001b[0m: LocoEnv.play_trajectory() got an unexpected keyword argument 'get_dataset'"
     ]
    }
   ],
   "source": [
    "dataset_heel_strikes, dataset_grfs = dataset_env.play_trajectory(n_episodes=5, get_dataset=True, record=False)"
   ]
  },
  {
   "cell_type": "code",
   "execution_count": 4,
   "metadata": {},
   "outputs": [
    {
     "ename": "NameError",
     "evalue": "name 'dataset_heel_strikes' is not defined",
     "output_type": "error",
     "traceback": [
      "\u001b[0;31m---------------------------------------------------------------------------\u001b[0m",
      "\u001b[0;31mNameError\u001b[0m                                 Traceback (most recent call last)",
      "Cell \u001b[0;32mIn[4], line 2\u001b[0m\n\u001b[1;32m      1\u001b[0m new_dataset_heel_strikes \u001b[38;5;241m=\u001b[39m []\n\u001b[0;32m----> 2\u001b[0m \u001b[38;5;28;01mfor\u001b[39;00m i, heel_strikes \u001b[38;5;129;01min\u001b[39;00m \u001b[38;5;28menumerate\u001b[39m(\u001b[43mdataset_heel_strikes\u001b[49m):\n\u001b[1;32m      3\u001b[0m     heel_strikes \u001b[38;5;241m=\u001b[39m [heel_strike\u001b[38;5;241m+\u001b[39mi\u001b[38;5;241m*\u001b[39m\u001b[38;5;241m1000\u001b[39m \u001b[38;5;28;01mfor\u001b[39;00m heel_strike \u001b[38;5;129;01min\u001b[39;00m heel_strikes]\n\u001b[1;32m      4\u001b[0m     new_dataset_heel_strikes\u001b[38;5;241m.\u001b[39mappend(heel_strikes)\n",
      "\u001b[0;31mNameError\u001b[0m: name 'dataset_heel_strikes' is not defined"
     ]
    }
   ],
   "source": [
    "new_dataset_heel_strikes = []\n",
    "for i, heel_strikes in enumerate(dataset_heel_strikes):\n",
    "    heel_strikes = [heel_strike+i*1000 for heel_strike in heel_strikes]\n",
    "    new_dataset_heel_strikes.append(heel_strikes)\n",
    "\n",
    "dataset_heel_strikes = []\n",
    "for heel_strikes in new_dataset_heel_strikes:\n",
    "    dataset_heel_strikes.extend(heel_strikes)"
   ]
  }
 ],
 "metadata": {
  "kernelspec": {
   "display_name": "mujoco-env",
   "language": "python",
   "name": "python3"
  },
  "language_info": {
   "codemirror_mode": {
    "name": "ipython",
    "version": 3
   },
   "file_extension": ".py",
   "mimetype": "text/x-python",
   "name": "python",
   "nbconvert_exporter": "python",
   "pygments_lexer": "ipython3",
   "version": "3.11.5"
  }
 },
 "nbformat": 4,
 "nbformat_minor": 2
}
