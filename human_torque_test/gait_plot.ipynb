{
 "cells": [
  {
   "cell_type": "markdown",
   "metadata": {},
   "source": [
    "## Import packages"
   ]
  },
  {
   "cell_type": "code",
   "execution_count": 1,
   "metadata": {},
   "outputs": [],
   "source": [
    "from mushroom_rl.core import Core, Agent\n",
    "from loco_mujoco import LocoEnv\n",
    "import mujoco\n",
    "import numpy as np\n",
    "from numpy import linalg as LA\n",
    "from operator import itemgetter \n",
    "from scipy.interpolate import CubicSpline\n",
    "import matplotlib.pyplot as plt"
   ]
  },
  {
   "cell_type": "markdown",
   "metadata": {},
   "source": [
    "## Load Agent from checkpoint\n",
    "Sometimes the agent would fumble or the heel strike detection is not working perfectly, so we set a cycle_length_cutoff that sets the minimum length of a complete cycle. If a cycle is shorter than this, it will get discarded"
   ]
  },
  {
   "cell_type": "code",
   "execution_count": 2,
   "metadata": {},
   "outputs": [],
   "source": [
    "dataset_env = LocoEnv.make('HumanoidTorque.walk', dataset_type='perfect', random_start=False)\n",
    "trained_env = LocoEnv.make(\"HumanoidTorque.walk\")\n",
    "\n",
    "agent = Agent.load(\"./logs/loco_mujoco_evalution_2024-09-29_21-32-22/env_id___HumanoidTorque.walk/0/agent_epoch_180_J_150.328129.msh\")"
   ]
  },
  {
   "cell_type": "code",
   "execution_count": 3,
   "metadata": {},
   "outputs": [],
   "source": [
    "dataset_heel_strikes, dataset_grfs = dataset_env.play_trajectory(n_episodes=5, get_dataset=True, record=False, render=False)"
   ]
  },
  {
   "cell_type": "code",
   "execution_count": 4,
   "metadata": {},
   "outputs": [],
   "source": [
    "dataset = np.load('../loco_mujoco/datasets/humanoids/perfect/humanoid_torque_walk/perfect_expert_dataset_det.npz')\n",
    "dataset = (dataset['states'][:5000], dataset['actions'][:5000])"
   ]
  },
  {
   "cell_type": "code",
   "execution_count": 5,
   "metadata": {},
   "outputs": [],
   "source": [
    "obs_keys = dict(\n",
    "    q_hip_flexion_l=9,\n",
    "    q_knee_angle_l=12,\n",
    "    q_ankle_angle_l=13,\n",
    "    dq_hip_flexion_l=28,\n",
    "    dq_knee_angle_l=31,\n",
    "    dq_ankle_angle_l=32,\n",
    ")\n",
    "act_keys = dict(\n",
    "    mot_hip_flexion_l=8,\n",
    "    mot_knee_angle_l=11,\n",
    "    mot_ankle_angle_l=12,\n",
    ")"
   ]
  },
  {
   "cell_type": "code",
   "execution_count": 6,
   "metadata": {},
   "outputs": [
    {
     "name": "stdout",
     "output_type": "stream",
     "text": [
      "(5000, 12)\n"
     ]
    }
   ],
   "source": [
    "processed_dataset = []\n",
    "for i in range(5000):\n",
    "    data = []\n",
    "    for j in obs_keys.values():\n",
    "        data.append(dataset[0][i][j])\n",
    "    for k in act_keys.values():\n",
    "        data.append(dataset[1][i][k])\n",
    "    data.extend(dataset_grfs[i])\n",
    "\n",
    "    processed_dataset.append(np.array(data))\n",
    "\n",
    "processed_dataset = np.array(processed_dataset)\n",
    "print(processed_dataset.shape)"
   ]
  },
  {
   "cell_type": "code",
   "execution_count": 7,
   "metadata": {},
   "outputs": [],
   "source": [
    "def trained_get_heelstrike_and_grf(sample):\n",
    "    global trained_step\n",
    "    global trained_l_foot_contact\n",
    "    global trained_heel_strikes\n",
    "    global trained_grfs\n",
    "\n",
    "    # heel strike\n",
    "    contact_group = []\n",
    "    for coni in range(trained_env._data.ncon):\n",
    "        con = trained_env._data.contact[coni]\n",
    "        geom1 = mujoco.mj_id2name(trained_env._model, mujoco.mjtObj.mjOBJ_GEOM, con.geom1)\n",
    "        geom2 = mujoco.mj_id2name(trained_env._model, mujoco.mjtObj.mjOBJ_GEOM, con.geom2)\n",
    "        contact_group.append(set([geom1, geom2]))\n",
    "\n",
    "    if set(['floor', 'foot_box_l']) in contact_group:\n",
    "        if not trained_l_foot_contact:\n",
    "            trained_l_foot_contact = True\n",
    "            trained_heel_strikes.append(trained_step)\n",
    "    else:\n",
    "        trained_l_foot_contact = False\n",
    "\n",
    "    # grf\n",
    "    trained_l_grf = trained_env._get_ground_forces()[-3:]\n",
    "    trained_grfs.append(trained_l_grf)\n",
    "        \n",
    "    trained_step +=1"
   ]
  },
  {
   "cell_type": "code",
   "execution_count": 8,
   "metadata": {},
   "outputs": [
    {
     "name": "stderr",
     "output_type": "stream",
     "text": [
      "                                             \r"
     ]
    }
   ],
   "source": [
    "trained_step = 0\n",
    "trained_l_foot_contact = False\n",
    "trained_heel_strikes = []\n",
    "trained_grfs = []\n",
    "core = Core(agent, trained_env, callback_step=trained_get_heelstrike_and_grf)\n",
    "trained_dataset = core.evaluate(n_episodes=5, render=False, record=False)"
   ]
  },
  {
   "cell_type": "code",
   "execution_count": 9,
   "metadata": {},
   "outputs": [
    {
     "name": "stdout",
     "output_type": "stream",
     "text": [
      "(793, 12)\n"
     ]
    }
   ],
   "source": [
    "processed_trained_dataset = []\n",
    "# format: obs(6), act(3), grf(3)\n",
    "for i in range(len(trained_dataset)):\n",
    "    data = []\n",
    "    for j in obs_keys.values():\n",
    "        data.append(trained_dataset[i][0][j])\n",
    "    for k in act_keys.values():\n",
    "        data.append(trained_dataset[i][1][k])\n",
    "    data.extend(trained_grfs[i])\n",
    "    \n",
    "    processed_trained_dataset.append(np.array(data))\n",
    "\n",
    "processed_trained_dataset = np.array(processed_trained_dataset)\n",
    "print(processed_trained_dataset.shape)"
   ]
  },
  {
   "cell_type": "code",
   "execution_count": 10,
   "metadata": {},
   "outputs": [],
   "source": [
    "cycle_length_cutoff = 90"
   ]
  },
  {
   "cell_type": "code",
   "execution_count": 11,
   "metadata": {},
   "outputs": [
    {
     "name": "stdout",
     "output_type": "stream",
     "text": [
      "Number of recorded trained_cycle: 45\n",
      "Cycle length cutff: 90\n",
      "Number of effective trained_cycle: 0\n"
     ]
    }
   ],
   "source": [
    "trained_cycles = []\n",
    "trained_cycle_lengths = np.diff(trained_heel_strikes)\n",
    "for i, trained_cycle_length in enumerate(trained_cycle_lengths):\n",
    "    if trained_cycle_length > cycle_length_cutoff:\n",
    "        trained_cycles.append(processed_trained_dataset[trained_heel_strikes[i]:trained_heel_strikes[i+1]])\n",
    "print(f'Number of recorded trained_cycle: {len(trained_cycle_lengths)}')\n",
    "print(f'Cycle length cutff: {cycle_length_cutoff}')\n",
    "print(f'Number of effective trained_cycle: {len(trained_cycles)}')"
   ]
  },
  {
   "cell_type": "code",
   "execution_count": 12,
   "metadata": {},
   "outputs": [
    {
     "ename": "TypeError",
     "evalue": "itemgetter expected 1 argument, got 0",
     "output_type": "error",
     "traceback": [
      "\u001b[0;31m---------------------------------------------------------------------------\u001b[0m",
      "\u001b[0;31mTypeError\u001b[0m                                 Traceback (most recent call last)",
      "Cell \u001b[0;32mIn[12], line 6\u001b[0m\n\u001b[1;32m      3\u001b[0m idxs \u001b[38;5;241m=\u001b[39m np\u001b[38;5;241m.\u001b[39marange(\u001b[38;5;28mlen\u001b[39m(trained_cycles))\n\u001b[1;32m      4\u001b[0m rng\u001b[38;5;241m.\u001b[39mshuffle(idxs, axis\u001b[38;5;241m=\u001b[39m\u001b[38;5;241m0\u001b[39m)\n\u001b[0;32m----> 6\u001b[0m trained_sampled_cycles \u001b[38;5;241m=\u001b[39m \u001b[43mitemgetter\u001b[49m\u001b[43m(\u001b[49m\u001b[38;5;241;43m*\u001b[39;49m\u001b[43midxs\u001b[49m\u001b[43m[\u001b[49m\u001b[43m:\u001b[49m\u001b[43mn_sample\u001b[49m\u001b[43m]\u001b[49m\u001b[43m)\u001b[49m(trained_cycles)\n\u001b[1;32m      7\u001b[0m trained_sampled_cycles_lengths \u001b[38;5;241m=\u001b[39m [\u001b[38;5;28mlen\u001b[39m(cycle) \u001b[38;5;28;01mfor\u001b[39;00m cycle \u001b[38;5;129;01min\u001b[39;00m trained_sampled_cycles]\n\u001b[1;32m      8\u001b[0m trained_mean_length \u001b[38;5;241m=\u001b[39m \u001b[38;5;28mround\u001b[39m(np\u001b[38;5;241m.\u001b[39mmean(trained_sampled_cycles_lengths))\n",
      "\u001b[0;31mTypeError\u001b[0m: itemgetter expected 1 argument, got 0"
     ]
    }
   ],
   "source": [
    "n_sample = 20\n",
    "rng = np.random.default_rng()\n",
    "idxs = np.arange(len(trained_cycles))\n",
    "rng.shuffle(idxs, axis=0)\n",
    "\n",
    "trained_sampled_cycles = itemgetter(*idxs[:n_sample])(trained_cycles)\n",
    "trained_sampled_cycles_lengths = [len(cycle) for cycle in trained_sampled_cycles]\n",
    "trained_mean_length = round(np.mean(trained_sampled_cycles_lengths))\n",
    "assert len(trained_sampled_cycles) == n_sample\n",
    "print(f'Number of sampled cycle: {n_sample}')\n",
    "print(f'Env Mean length: {trained_mean_length}')"
   ]
  },
  {
   "cell_type": "code",
   "execution_count": null,
   "metadata": {},
   "outputs": [],
   "source": []
  }
 ],
 "metadata": {
  "kernelspec": {
   "display_name": "mujoco-env",
   "language": "python",
   "name": "python3"
  },
  "language_info": {
   "codemirror_mode": {
    "name": "ipython",
    "version": 3
   },
   "file_extension": ".py",
   "mimetype": "text/x-python",
   "name": "python",
   "nbconvert_exporter": "python",
   "pygments_lexer": "ipython3",
   "version": "3.11.5"
  }
 },
 "nbformat": 4,
 "nbformat_minor": 2
}
